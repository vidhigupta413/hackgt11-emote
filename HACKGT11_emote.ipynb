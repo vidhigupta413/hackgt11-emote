{
 "cells": [
  {
   "cell_type": "code",
   "execution_count": 1,
   "id": "02c19d0f-c760-4caf-aa9b-336955bb8f69",
   "metadata": {},
   "outputs": [],
   "source": [
    "import cv2"
   ]
  },
  {
   "cell_type": "code",
   "execution_count": 2,
   "id": "4161b659-3d99-44ad-8261-e112e233b53d",
   "metadata": {},
   "outputs": [],
   "source": [
    "import matplotlib.pyplot as plt"
   ]
  },
  {
   "cell_type": "code",
   "execution_count": 3,
   "id": "833e8b43-100c-4609-82d2-daeaf7ac42bb",
   "metadata": {},
   "outputs": [],
   "source": [
    "from deepface import DeepFace"
   ]
  },
  {
   "cell_type": "code",
   "execution_count": null,
   "id": "b5b19c18-98f4-4601-8cf3-cd646ae4e05a",
   "metadata": {},
   "outputs": [],
   "source": [
    "import os\n",
    "import urllib.request"
   ]
  },
  {
   "cell_type": "code",
   "execution_count": null,
   "id": "aaeeded6-c7c8-4099-b9dd-5f28cf9a6324",
   "metadata": {},
   "outputs": [],
   "source": [
    "if not:\n",
    "    os.path.exists(haarcascade_path):\n",
    "    print(f\"Downloading {haarcascade_path}...\")\n",
    "    # Download the file from the URL and save it locally\n",
    "    urllib.request.urlretrieve(haarcascade_url, haarcascade_path)\n",
    "    print(f\"{haarcascade_path} downloaded successfully.\")\n",
    "else:\n",
    "    print(f\"{haarcascade_path} already exists.\")"
   ]
  },
  {
   "cell_type": "code",
   "execution_count": 4,
   "id": "bcf2971e-2afa-4121-a5ee-07752a2aa1ae",
   "metadata": {},
   "outputs": [],
   "source": [
    "cam = cv2.VideoCapture(0)"
   ]
  },
  {
   "cell_type": "code",
   "execution_count": 5,
   "id": "26149ac3-ebd1-4980-8833-b535574126c5",
   "metadata": {},
   "outputs": [],
   "source": [
    "frameWidth = int(cam.get(cv2.CAP_PROP_FRAME_WIDTH))"
   ]
  },
  {
   "cell_type": "code",
   "execution_count": 6,
   "id": "943ed9c4-11ce-458d-9cef-df10076db4ac",
   "metadata": {},
   "outputs": [],
   "source": [
    "frameHeight = int(cam.get(cv2.CAP_PROP_FRAME_HEIGHT))"
   ]
  },
  {
   "cell_type": "code",
   "execution_count": 7,
   "id": "d5ed9756-61ac-42ac-9662-9cd4060e55ef",
   "metadata": {},
   "outputs": [],
   "source": [
    "font = cv2.FONT_HERSHEY_SIMPLEX"
   ]
  },
  {
   "cell_type": "code",
   "execution_count": 8,
   "id": "074ca5f9-d1a3-46a3-91cb-f9a70eef3318",
   "metadata": {},
   "outputs": [],
   "source": [
    "x1 = int(frameWidth/2 - 350)\n",
    "x2 = int(frameWidth/2 + 350)"
   ]
  },
  {
   "cell_type": "code",
   "execution_count": 9,
   "id": "490b559e-b16f-4db6-9fab-8304fbdf7d2f",
   "metadata": {},
   "outputs": [],
   "source": [
    "def detectEmotion(img):\n",
    "    cv2.waitKey(1)\n",
    "    try:\n",
    "        emotion = DeepFace.analyze(img)\n",
    "        #display rectangle\n",
    "        faceCascade = cv2.CascadeClassifier(cv2.data.haarcascades + 'haarcascade_frontalface_default.xml')\n",
    "            #how to include this downloaded file on other computers?\n",
    "        grey = cv2.cvtColor(img, cv2.COLOR_BGR2GRAY)\n",
    "        faces = faceCascade.detectMultiScale(grey, 1.1, 4)\n",
    "        \n",
    "        \n",
    "        for(x, y, w, h) in faces:\n",
    "            cv2.rectangle(img, (x, y), (x+w, y+h), (173, 31, 41), 4)\n",
    "        \n",
    "        #display emotion\n",
    "            yText = setYCoordinate(y, h)\n",
    "            cv2.putText(img,\n",
    "                            emotion[0]['dominant_emotion'],\n",
    "                            (x, yText),\n",
    "                            font, 3,\n",
    "                            (173, 31, 41),\n",
    "                            6,\n",
    "                            cv2.LINE_4);\n",
    "        \n",
    "        img_rgb = cv2.cvtColor(img, cv2.COLOR_BGR2RGB)\n",
    "        cropped_img = img_rgb[0:1000, x1:x2]\n",
    "        cv2.imshow(\"emotion results\", cropped_img)\n",
    "        cv2.moveWindow(\"emotion results\",x1+300,0)\n",
    "    except Exception as e:\n",
    "        cv2.putText(img,\n",
    "                            \"Face not found: retake image\",\n",
    "                            (400, 175),\n",
    "                            font, 1,\n",
    "                            (173, 31, 41),\n",
    "                            3,\n",
    "                            cv2.LINE_4);\n",
    "        img_rgb = cv2.cvtColor(img, cv2.COLOR_BGR2RGB)\n",
    "        cropped_img = img_rgb[0:1000, x1:x2]\n",
    "        cv2.imshow(\"error\", cropped_img)\n",
    "        cv2.moveWindow(\"error\",x1+300,0)"
   ]
  },
  {
   "cell_type": "code",
   "execution_count": 10,
   "id": "c980a14f-b228-4752-a5ac-a906e3d7f918",
   "metadata": {},
   "outputs": [],
   "source": [
    "def setCamera():\n",
    "    cv2.waitKey(1)\n",
    "    while True:\n",
    "        ret, frame = cam.read()\n",
    "        cropped_frame = frame[0:1000, x1:x2]\n",
    "        window_name = \"Camera\"\n",
    "        cv2.imshow(window_name, cropped_frame)\n",
    "    \n",
    "    #convert image to color\n",
    "        frame_rgb = cv2.cvtColor(frame, cv2.COLOR_BGR2RGB)\n",
    "    \n",
    "        #plt.imshow(frame_rgb)\n",
    "        plt.axis(\"off\")\n",
    "    \n",
    "        #clear_output(wait=True)\n",
    "        #display(plt.gcf())\n",
    "    \n",
    "    #press spacebar to capture image \n",
    "        if cv2.waitKey(1) & 0xFF == 32:\n",
    "            img_filename = \"captured_emotion.png\"\n",
    "            cv2.imwrite(img_filename, frame)\n",
    "            print(f\"Image saved as {img_filename}\")\n",
    "            captured_img = cv2.imread(img_filename)\n",
    "            img = cv2.cvtColor(captured_img, cv2.COLOR_BGR2RGB)\n",
    "            nullException = detectEmotion(img)\n",
    "            cv2.waitKey(1)  \n",
    "            break\n",
    "        elif cv2.waitKey(1) & 0xFF == 113:\n",
    "            window_name = None\n",
    "            cv2.destroyAllWindows()\n",
    "            cam.release()\n",
    "            cv2.waitKey(1)\n",
    "            break\n",
    "    \n",
    "    \n",
    "    #key = cv2.waitKey(1)t\n",
    "    #cv2.getWindowProperty(window_name, cv2.WND_PROP_VISIBLE) > 0\n",
    "    while window_name != None:\n",
    "        if cv2.waitKey(1) & 0xFF == 113:\n",
    "            window_name = None\n",
    "            cv2.destroyAllWindows()\n",
    "            cam.release()\n",
    "            cv2.waitKey(1)\n",
    "            break\n",
    "        elif cv2.waitKey(1) & 0xFF == 114:\n",
    "            window_name = None\n",
    "            cv2.destroyAllWindows()\n",
    "            setCamera()\n",
    "            cv2.waitKey(1)\n",
    "    \n",
    "    \n",
    "    "
   ]
  },
  {
   "cell_type": "code",
   "execution_count": 11,
   "id": "6ae20e25-d3b3-461e-afd9-eb8b902f5d2e",
   "metadata": {},
   "outputs": [],
   "source": [
    "def setYCoordinate(y, h):\n",
    "    if (y <= 70):\n",
    "        return y + h + 70\n",
    "    else:\n",
    "        return y - 50"
   ]
  },
  {
   "cell_type": "code",
   "execution_count": 12,
   "id": "b845c4fb-481b-49bf-8228-ecc83458fab3",
   "metadata": {},
   "outputs": [
    {
     "name": "stdout",
     "output_type": "stream",
     "text": [
      "Image saved as captured_emotion.png\n"
     ]
    },
    {
     "name": "stderr",
     "output_type": "stream",
     "text": [
      "Action: race: 100%|███████████████████████████████| 4/4 [00:02<00:00,  2.00it/s]\n",
      "Action: race: 100%|███████████████████████████████| 4/4 [00:00<00:00, 10.13it/s]\n"
     ]
    },
    {
     "name": "stdout",
     "output_type": "stream",
     "text": [
      "Image saved as captured_emotion.png\n"
     ]
    },
    {
     "name": "stderr",
     "output_type": "stream",
     "text": [
      "Action: race: 100%|███████████████████████████████| 4/4 [00:00<00:00, 10.10it/s]\n",
      "Action: race: 100%|███████████████████████████████| 4/4 [00:00<00:00, 10.15it/s]\n"
     ]
    },
    {
     "name": "stdout",
     "output_type": "stream",
     "text": [
      "Image saved as captured_emotion.png\n"
     ]
    },
    {
     "name": "stderr",
     "output_type": "stream",
     "text": [
      "Action: race: 100%|███████████████████████████████| 4/4 [00:00<00:00,  9.89it/s]\n"
     ]
    },
    {
     "name": "stdout",
     "output_type": "stream",
     "text": [
      "Image saved as captured_emotion.png\n"
     ]
    },
    {
     "name": "stderr",
     "output_type": "stream",
     "text": [
      "Action: race: 100%|███████████████████████████████| 4/4 [00:00<00:00, 10.17it/s]\n",
      "Action: race: 100%|███████████████████████████████| 4/4 [00:00<00:00, 10.20it/s]\n"
     ]
    },
    {
     "name": "stdout",
     "output_type": "stream",
     "text": [
      "Image saved as captured_emotion.png\n"
     ]
    },
    {
     "name": "stderr",
     "output_type": "stream",
     "text": [
      "Action: race: 100%|███████████████████████████████| 4/4 [00:00<00:00,  8.42it/s]\n",
      "Action: race: 100%|███████████████████████████████| 4/4 [00:00<00:00, 10.12it/s]\n"
     ]
    },
    {
     "name": "stdout",
     "output_type": "stream",
     "text": [
      "Image saved as captured_emotion.png\n"
     ]
    },
    {
     "name": "stderr",
     "output_type": "stream",
     "text": [
      "Action: race: 100%|███████████████████████████████| 4/4 [00:00<00:00, 10.14it/s]\n",
      "Action: race: 100%|███████████████████████████████| 4/4 [00:00<00:00, 10.16it/s]\n"
     ]
    },
    {
     "name": "stdout",
     "output_type": "stream",
     "text": [
      "Image saved as captured_emotion.png\n"
     ]
    },
    {
     "name": "stderr",
     "output_type": "stream",
     "text": [
      "Action: race: 100%|███████████████████████████████| 4/4 [00:00<00:00, 10.14it/s]\n",
      "Action: race: 100%|███████████████████████████████| 4/4 [00:00<00:00, 10.20it/s]\n"
     ]
    },
    {
     "name": "stdout",
     "output_type": "stream",
     "text": [
      "Image saved as captured_emotion.png\n"
     ]
    },
    {
     "name": "stderr",
     "output_type": "stream",
     "text": [
      "Action: race: 100%|███████████████████████████████| 4/4 [00:00<00:00, 10.18it/s]\n",
      "Action: race: 100%|███████████████████████████████| 4/4 [00:00<00:00, 10.12it/s]\n"
     ]
    },
    {
     "name": "stdout",
     "output_type": "stream",
     "text": [
      "Image saved as captured_emotion.png\n"
     ]
    },
    {
     "name": "stderr",
     "output_type": "stream",
     "text": [
      "Action: race: 100%|███████████████████████████████| 4/4 [00:00<00:00, 10.15it/s]\n",
      "Action: race: 100%|███████████████████████████████| 4/4 [00:00<00:00, 10.18it/s]\n",
      "Action: race: 100%|███████████████████████████████| 4/4 [00:00<00:00, 10.20it/s]\n"
     ]
    },
    {
     "name": "stdout",
     "output_type": "stream",
     "text": [
      "Image saved as captured_emotion.png\n"
     ]
    },
    {
     "name": "stderr",
     "output_type": "stream",
     "text": [
      "Action: race: 100%|███████████████████████████████| 4/4 [00:00<00:00, 10.15it/s]\n",
      "Action: race: 100%|███████████████████████████████| 4/4 [00:00<00:00, 10.23it/s]\n"
     ]
    },
    {
     "name": "stdout",
     "output_type": "stream",
     "text": [
      "Image saved as captured_emotion.png\n"
     ]
    },
    {
     "name": "stderr",
     "output_type": "stream",
     "text": [
      "Action: race: 100%|███████████████████████████████| 4/4 [00:00<00:00, 10.16it/s]\n",
      "Action: race: 100%|███████████████████████████████| 4/4 [00:00<00:00, 10.20it/s]\n"
     ]
    },
    {
     "name": "stdout",
     "output_type": "stream",
     "text": [
      "Image saved as captured_emotion.png\n"
     ]
    },
    {
     "name": "stderr",
     "output_type": "stream",
     "text": [
      "Action: race: 100%|███████████████████████████████| 4/4 [00:00<00:00, 10.13it/s]\n"
     ]
    },
    {
     "name": "stdout",
     "output_type": "stream",
     "text": [
      "Image saved as captured_emotion.png\n"
     ]
    },
    {
     "name": "stderr",
     "output_type": "stream",
     "text": [
      "Action: race: 100%|███████████████████████████████| 4/4 [00:00<00:00, 10.07it/s]\n",
      "Action: race: 100%|███████████████████████████████| 4/4 [00:00<00:00, 10.05it/s]\n",
      "Action: race: 100%|███████████████████████████████| 4/4 [00:00<00:00, 10.01it/s]\n"
     ]
    },
    {
     "name": "stdout",
     "output_type": "stream",
     "text": [
      "Image saved as captured_emotion.png\n"
     ]
    },
    {
     "name": "stderr",
     "output_type": "stream",
     "text": [
      "Action: race: 100%|███████████████████████████████| 4/4 [00:00<00:00, 10.10it/s]\n",
      "Action: race: 100%|███████████████████████████████| 4/4 [00:00<00:00, 10.18it/s]\n",
      "Action: race: 100%|███████████████████████████████| 4/4 [00:00<00:00, 10.22it/s]\n",
      "Action: race: 100%|███████████████████████████████| 4/4 [00:00<00:00, 10.21it/s]\n"
     ]
    },
    {
     "name": "stdout",
     "output_type": "stream",
     "text": [
      "Image saved as captured_emotion.png\n"
     ]
    },
    {
     "name": "stderr",
     "output_type": "stream",
     "text": [
      "Action: race: 100%|███████████████████████████████| 4/4 [00:00<00:00, 10.14it/s]\n",
      "Action: race: 100%|███████████████████████████████| 4/4 [00:00<00:00, 10.13it/s]\n"
     ]
    },
    {
     "name": "stdout",
     "output_type": "stream",
     "text": [
      "Image saved as captured_emotion.png\n"
     ]
    },
    {
     "name": "stderr",
     "output_type": "stream",
     "text": [
      "Action: race: 100%|███████████████████████████████| 4/4 [00:00<00:00, 10.09it/s]\n"
     ]
    },
    {
     "name": "stdout",
     "output_type": "stream",
     "text": [
      "Image saved as captured_emotion.png\n"
     ]
    },
    {
     "name": "stderr",
     "output_type": "stream",
     "text": [
      "Action: race: 100%|███████████████████████████████| 4/4 [00:00<00:00, 10.11it/s]\n"
     ]
    },
    {
     "data": {
      "image/png": "[encoded data removed]",
      "text/plain": [
       "<Figure size 640x480 with 1 Axes>"
      ]
     },
     "metadata": {},
     "output_type": "display_data"
    }
   ],
   "source": [
    "setCamera()"
   ]
  },
  {
   "cell_type": "raw",
   "id": "a0480246-3cc4-436c-9191-bd06583bc2bb",
   "metadata": {},
   "source": []
  }
 ],
 "metadata": {
  "kernelspec": {
   "display_name": "Python 3 (ipykernel)",
   "language": "python",
   "name": "python3"
  },
  "language_info": {
   "codemirror_mode": {
    "name": "ipython",
    "version": 3
   },
   "file_extension": ".py",
   "mimetype": "text/x-python",
   "name": "python",
   "nbconvert_exporter": "python",
   "pygments_lexer": "ipython3",
   "version": "3.12.4"
  }
 },
 "nbformat": 4,
 "nbformat_minor": 5
}
